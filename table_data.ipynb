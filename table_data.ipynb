{
 "cells": [
  {
   "cell_type": "code",
   "execution_count": 1,
   "metadata": {
    "tags": []
   },
   "outputs": [],
   "source": [
    "%LOAD marketplace.db"
   ]
  },
  {
   "cell_type": "markdown",
   "metadata": {},
   "source": [
    "### Displaying tables"
   ]
  },
  {
   "cell_type": "code",
   "execution_count": 4,
   "metadata": {
    "tags": []
   },
   "outputs": [
    {
     "data": {
      "text/html": [
       "<table>\n",
       "<tr>\n",
       "<th>name</th>\n",
       "<th>email</th>\n",
       "<th>password</th>\n",
       "</tr>\n",
       "<tr>\n",
       "<td>Acton Davidson</td>\n",
       "<td>maecenas.iaculis.aliquet@protonmail.com</td>\n",
       "<td>cNo1Q7E1</td>\n",
       "</tr>\n",
       "<tr>\n",
       "<td>Colton Lawson</td>\n",
       "<td>vel.nisl@google.com</td>\n",
       "<td>mRh7B9O7</td>\n",
       "</tr>\n",
       "<tr>\n",
       "<td>Daria Mayer</td>\n",
       "<td>ut@hotmail.com</td>\n",
       "<td>fRd3B3B2</td>\n",
       "</tr>\n",
       "<tr>\n",
       "<td>Brenna Logan</td>\n",
       "<td>nam@google.com</td>\n",
       "<td>kOs1C9T4</td>\n",
       "</tr>\n",
       "<tr>\n",
       "<td>Jared Aguilar</td>\n",
       "<td>amet.diam.eu@outlook.com</td>\n",
       "<td>rHf1Z7D6</td>\n",
       "</tr>\n",
       "</table>"
      ],
      "text/plain": [
       "+----------------+-----------------------------------------+----------+\n",
       "| name           | email                                   | password |\n",
       "+----------------+-----------------------------------------+----------+\n",
       "| Acton Davidson | maecenas.iaculis.aliquet@protonmail.com | cNo1Q7E1 |\n",
       "+----------------+-----------------------------------------+----------+\n",
       "| Colton Lawson  | vel.nisl@google.com                     | mRh7B9O7 |\n",
       "+----------------+-----------------------------------------+----------+\n",
       "| Daria Mayer    | ut@hotmail.com                          | fRd3B3B2 |\n",
       "+----------------+-----------------------------------------+----------+\n",
       "| Brenna Logan   | nam@google.com                          | kOs1C9T4 |\n",
       "+----------------+-----------------------------------------+----------+\n",
       "| Jared Aguilar  | amet.diam.eu@outlook.com                | rHf1Z7D6 |\n",
       "+----------------+-----------------------------------------+----------+"
      ]
     },
     "execution_count": 4,
     "metadata": {},
     "output_type": "execute_result"
    }
   ],
   "source": [
    "select * from login limit 5;"
   ]
  },
  {
   "cell_type": "code",
   "execution_count": 5,
   "metadata": {
    "tags": []
   },
   "outputs": [
    {
     "data": {
      "text/html": [
       "<table>\n",
       "<tr>\n",
       "<th>name</th>\n",
       "<th>phone</th>\n",
       "<th>mailing_address</th>\n",
       "</tr>\n",
       "<tr>\n",
       "<td>Acton Davidson</td>\n",
       "<td>1-288-526-9861</td>\n",
       "<td>719-3687 Lectus. Road</td>\n",
       "</tr>\n",
       "<tr>\n",
       "<td>Colton Lawson</td>\n",
       "<td>(322) 325-3823</td>\n",
       "<td>839-2867 Tellus Rd.</td>\n",
       "</tr>\n",
       "<tr>\n",
       "<td>Daria Mayer</td>\n",
       "<td>(114) 650-0622</td>\n",
       "<td>113-1875 Proin Ave</td>\n",
       "</tr>\n",
       "<tr>\n",
       "<td>Brenna Logan</td>\n",
       "<td>(248) 756-7779</td>\n",
       "<td>Ap #672-7227 Consectetuer Av.</td>\n",
       "</tr>\n",
       "<tr>\n",
       "<td>Jared Aguilar</td>\n",
       "<td>1-613-315-2845</td>\n",
       "<td>Ap #200-7200 Nullam Road</td>\n",
       "</tr>\n",
       "</table>"
      ],
      "text/plain": [
       "+----------------+----------------+-------------------------------+\n",
       "| name           | phone          | mailing_address               |\n",
       "+----------------+----------------+-------------------------------+\n",
       "| Acton Davidson | 1-288-526-9861 | 719-3687 Lectus. Road         |\n",
       "+----------------+----------------+-------------------------------+\n",
       "| Colton Lawson  | (322) 325-3823 | 839-2867 Tellus Rd.           |\n",
       "+----------------+----------------+-------------------------------+\n",
       "| Daria Mayer    | (114) 650-0622 | 113-1875 Proin Ave            |\n",
       "+----------------+----------------+-------------------------------+\n",
       "| Brenna Logan   | (248) 756-7779 | Ap #672-7227 Consectetuer Av. |\n",
       "+----------------+----------------+-------------------------------+\n",
       "| Jared Aguilar  | 1-613-315-2845 | Ap #200-7200 Nullam Road      |\n",
       "+----------------+----------------+-------------------------------+"
      ]
     },
     "execution_count": 5,
     "metadata": {},
     "output_type": "execute_result"
    }
   ],
   "source": [
    "select * from mailing limit 5;"
   ]
  },
  {
   "cell_type": "code",
   "execution_count": 6,
   "metadata": {
    "tags": []
   },
   "outputs": [
    {
     "data": {
      "text/html": [
       "<table>\n",
       "<tr>\n",
       "<th>name</th>\n",
       "<th>card_number</th>\n",
       "<th>cvv</th>\n",
       "<th>expiratioN_date</th>\n",
       "</tr>\n",
       "<tr>\n",
       "<td>Acton Davidson</td>\n",
       "<td>677129226373853998</td>\n",
       "<td>944</td>\n",
       "<td>05/26</td>\n",
       "</tr>\n",
       "<tr>\n",
       "<td>Colton Lawson</td>\n",
       "<td>4539 2756 6996 8974</td>\n",
       "<td>690</td>\n",
       "<td>09/11</td>\n",
       "</tr>\n",
       "<tr>\n",
       "<td>Daria Mayer</td>\n",
       "<td>645544 225658 5526</td>\n",
       "<td>470</td>\n",
       "<td>04/12</td>\n",
       "</tr>\n",
       "<tr>\n",
       "<td>Brenna Logan</td>\n",
       "<td>5018 895 16 7379</td>\n",
       "<td>268</td>\n",
       "<td>12/12</td>\n",
       "</tr>\n",
       "<tr>\n",
       "<td>Jared Aguilar</td>\n",
       "<td>2014 345753 55268</td>\n",
       "<td>732</td>\n",
       "<td>07/01</td>\n",
       "</tr>\n",
       "</table>"
      ],
      "text/plain": [
       "+----------------+---------------------+-----+-----------------+\n",
       "| name           | card_number         | cvv | expiratioN_date |\n",
       "+----------------+---------------------+-----+-----------------+\n",
       "| Acton Davidson | 677129226373853998  | 944 | 05/26           |\n",
       "+----------------+---------------------+-----+-----------------+\n",
       "| Colton Lawson  | 4539 2756 6996 8974 | 690 | 09/11           |\n",
       "+----------------+---------------------+-----+-----------------+\n",
       "| Daria Mayer    | 645544 225658 5526  | 470 | 04/12           |\n",
       "+----------------+---------------------+-----+-----------------+\n",
       "| Brenna Logan   | 5018 895 16 7379    | 268 | 12/12           |\n",
       "+----------------+---------------------+-----+-----------------+\n",
       "| Jared Aguilar  | 2014 345753 55268   | 732 | 07/01           |\n",
       "+----------------+---------------------+-----+-----------------+"
      ]
     },
     "execution_count": 6,
     "metadata": {},
     "output_type": "execute_result"
    }
   ],
   "source": [
    "select * from card limit 5;"
   ]
  },
  {
   "cell_type": "markdown",
   "metadata": {},
   "source": [
    "### Show contact and credit card information per user"
   ]
  },
  {
   "cell_type": "code",
   "execution_count": 12,
   "metadata": {
    "tags": []
   },
   "outputs": [
    {
     "data": {
      "text/html": [
       "<table>\n",
       "<tr>\n",
       "<th>name</th>\n",
       "<th>phone</th>\n",
       "<th>mailing_address</th>\n",
       "<th>card_number</th>\n",
       "<th>cvv</th>\n",
       "<th>expiratioN_date</th>\n",
       "</tr>\n",
       "<tr>\n",
       "<td>Acton Davidson</td>\n",
       "<td>1-288-526-9861</td>\n",
       "<td>719-3687 Lectus. Road</td>\n",
       "<td>677129226373853998</td>\n",
       "<td>944</td>\n",
       "<td>05/26</td>\n",
       "</tr>\n",
       "<tr>\n",
       "<td>Colton Lawson</td>\n",
       "<td>(322) 325-3823</td>\n",
       "<td>839-2867 Tellus Rd.</td>\n",
       "<td>4539 2756 6996 8974</td>\n",
       "<td>690</td>\n",
       "<td>09/11</td>\n",
       "</tr>\n",
       "<tr>\n",
       "<td>Daria Mayer</td>\n",
       "<td>(114) 650-0622</td>\n",
       "<td>113-1875 Proin Ave</td>\n",
       "<td>645544 225658 5526</td>\n",
       "<td>470</td>\n",
       "<td>04/12</td>\n",
       "</tr>\n",
       "<tr>\n",
       "<td>Brenna Logan</td>\n",
       "<td>(248) 756-7779</td>\n",
       "<td>Ap #672-7227 Consectetuer Av.</td>\n",
       "<td>5018 895 16 7379</td>\n",
       "<td>268</td>\n",
       "<td>12/12</td>\n",
       "</tr>\n",
       "<tr>\n",
       "<td>Jared Aguilar</td>\n",
       "<td>1-613-315-2845</td>\n",
       "<td>Ap #200-7200 Nullam Road</td>\n",
       "<td>2014 345753 55268</td>\n",
       "<td>732</td>\n",
       "<td>07/01</td>\n",
       "</tr>\n",
       "</table>"
      ],
      "text/plain": [
       "+----------------+----------------+-------------------------------+---------------------+-----+-----------------+\n",
       "| name           | phone          | mailing_address               | card_number         | cvv | expiratioN_date |\n",
       "+----------------+----------------+-------------------------------+---------------------+-----+-----------------+\n",
       "| Acton Davidson | 1-288-526-9861 | 719-3687 Lectus. Road         | 677129226373853998  | 944 | 05/26           |\n",
       "+----------------+----------------+-------------------------------+---------------------+-----+-----------------+\n",
       "| Colton Lawson  | (322) 325-3823 | 839-2867 Tellus Rd.           | 4539 2756 6996 8974 | 690 | 09/11           |\n",
       "+----------------+----------------+-------------------------------+---------------------+-----+-----------------+\n",
       "| Daria Mayer    | (114) 650-0622 | 113-1875 Proin Ave            | 645544 225658 5526  | 470 | 04/12           |\n",
       "+----------------+----------------+-------------------------------+---------------------+-----+-----------------+\n",
       "| Brenna Logan   | (248) 756-7779 | Ap #672-7227 Consectetuer Av. | 5018 895 16 7379    | 268 | 12/12           |\n",
       "+----------------+----------------+-------------------------------+---------------------+-----+-----------------+\n",
       "| Jared Aguilar  | 1-613-315-2845 | Ap #200-7200 Nullam Road      | 2014 345753 55268   | 732 | 07/01           |\n",
       "+----------------+----------------+-------------------------------+---------------------+-----+-----------------+"
      ]
     },
     "execution_count": 12,
     "metadata": {},
     "output_type": "execute_result"
    }
   ],
   "source": [
    "select * from mailing\n",
    "natural join card\n",
    "limit 5;"
   ]
  }
 ],
 "metadata": {
  "kernelspec": {
   "display_name": "xsqlite",
   "language": "sqlite",
   "name": "xsqlite"
  },
  "language_info": {
   "codemirror_mode": "sql",
   "file_extension": "",
   "mimetype": "",
   "name": "sql",
   "version": "3.33.0"
  },
  "vscode": {
   "interpreter": {
    "hash": "aee8b7b246df8f9039afb4144a1f6fd8d2ca17a180786b69acc140d282b71a49"
   }
  }
 },
 "nbformat": 4,
 "nbformat_minor": 4
}
